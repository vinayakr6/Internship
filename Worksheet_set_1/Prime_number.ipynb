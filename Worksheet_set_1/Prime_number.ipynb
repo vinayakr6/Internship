{
 "cells": [
  {
   "cell_type": "markdown",
   "id": "7b4a2ae0",
   "metadata": {},
   "source": [
    "### program to find whether a number is prime or composite."
   ]
  },
  {
   "cell_type": "code",
   "execution_count": 3,
   "id": "ae0f5e53",
   "metadata": {},
   "outputs": [
    {
     "name": "stdout",
     "output_type": "stream",
     "text": [
      "Enter a number to check whether it is prime or composite: 443\n",
      "443 is a prime number\n"
     ]
    }
   ],
   "source": [
    "def isprime():\n",
    "    num = int(input(\"Enter a number to check whether it is prime or composite: \"))\n",
    "    # check number is greater than 1\n",
    "    if num > 1:\n",
    "    # Idendifying other factors\n",
    "        for i in range(2,num):\n",
    "            if (num % i) == 0:\n",
    "                print(f\"{num} is a composite number\")\n",
    "                break\n",
    "        else:\n",
    "            print(f\"{num} is a prime number\")\n",
    "    # if the number is less than 1\n",
    "    else:\n",
    "        print(f\"{num} is not a prime number\")\n",
    "\n",
    "isprime()"
   ]
  },
  {
   "cell_type": "code",
   "execution_count": null,
   "id": "baa55c5b",
   "metadata": {},
   "outputs": [],
   "source": []
  }
 ],
 "metadata": {
  "kernelspec": {
   "display_name": "Python 3 (ipykernel)",
   "language": "python",
   "name": "python3"
  },
  "language_info": {
   "codemirror_mode": {
    "name": "ipython",
    "version": 3
   },
   "file_extension": ".py",
   "mimetype": "text/x-python",
   "name": "python",
   "nbconvert_exporter": "python",
   "pygments_lexer": "ipython3",
   "version": "3.9.7"
  }
 },
 "nbformat": 4,
 "nbformat_minor": 5
}
