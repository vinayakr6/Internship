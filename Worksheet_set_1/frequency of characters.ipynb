{
 "cells": [
  {
   "cell_type": "markdown",
   "id": "0b829599",
   "metadata": {},
   "source": [
    "### program to print the frequency of each of the characters present in a given string."
   ]
  },
  {
   "cell_type": "code",
   "execution_count": 2,
   "id": "f1cba3b8",
   "metadata": {},
   "outputs": [
    {
     "name": "stdout",
     "output_type": "stream",
     "text": [
      "Enter a string to find frequency of each character: Hello, This is Vinayak\n",
      "Counter({' ': 3, 'i': 3, 'l': 2, 's': 2, 'a': 2, 'H': 1, 'e': 1, 'o': 1, ',': 1, 'T': 1, 'h': 1, 'V': 1, 'n': 1, 'y': 1, 'k': 1})\n"
     ]
    }
   ],
   "source": [
    "# Importing counter module from collections\n",
    "\n",
    "from collections import Counter\n",
    "\n",
    "word = input(\"Enter a string to find frequency of each character: \")\n",
    "\n",
    "print(Counter(word))"
   ]
  }
 ],
 "metadata": {
  "kernelspec": {
   "display_name": "Python 3 (ipykernel)",
   "language": "python",
   "name": "python3"
  },
  "language_info": {
   "codemirror_mode": {
    "name": "ipython",
    "version": 3
   },
   "file_extension": ".py",
   "mimetype": "text/x-python",
   "name": "python",
   "nbconvert_exporter": "python",
   "pygments_lexer": "ipython3",
   "version": "3.9.7"
  }
 },
 "nbformat": 4,
 "nbformat_minor": 5
}
