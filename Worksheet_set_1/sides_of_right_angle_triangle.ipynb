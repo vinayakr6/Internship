{
 "cells": [
  {
   "cell_type": "markdown",
   "id": "a805ba3d",
   "metadata": {},
   "source": [
    "### Python program to get the third side of right-angled triangle from two given sides."
   ]
  },
  {
   "cell_type": "code",
   "execution_count": 1,
   "id": "5a69b5f3",
   "metadata": {},
   "outputs": [
    {
     "name": "stdout",
     "output_type": "stream",
     "text": [
      "Enter choice \n",
      "1-->To find Hypotenuese\n",
      "2-->To find adjacent or opposite side \n",
      "1\n",
      "Let's obtain the Hyptenuese\n",
      "Enter the length of opposite side: 25\n",
      "Enter the length of adjacent side:: 40\n",
      "Hypotenuese is: 47.16990566028302\n"
     ]
    }
   ],
   "source": [
    "# User choice to find either Hypotenuese or other sides\n",
    "choice = int(input(\"Enter choice \\n1-->To find Hypotenuese\\n2-->To find adjacent or opposite side \\n\"))\n",
    "if choice!=1 and choice !=2:\n",
    "    print(\"Invalid entry. Please enter either 1 or 2\")\n",
    "    \n",
    "    \n",
    "#To find hypotenuese given the two perpendicular sides\n",
    "elif (choice == 1):\n",
    "    print(\"Let's obtain the Hyptenuese\")\n",
    "    opp_side = float(input(\"Enter the length of opposite side: \"))\n",
    "    adj_side = float(input(\"Enter the length of adjacent side:: \"))\n",
    "    #Lengths cannot be negative\n",
    "    if (opp_side<0) or (adj_side<0):\n",
    "        print(\"Enter positive values, length cannot be negative\")\n",
    "    else:\n",
    "        hyp = (opp_side**2 + adj_side**2)**0.5\n",
    "        print(f\"Hypotenuese is: {hyp}\")\n",
    "\n",
    "        \n",
    "#To find length opposite or adjancent side \n",
    "elif (choice == 2):\n",
    "    print(\"Let's find length of opposite or adjacent side\")\n",
    "    hyp = float(input(\"Enter length of hypotenuese: \"))\n",
    "    side = float(input(\"Enter length of opposite or adjancent side: \"))\n",
    "    if (side > hyp):\n",
    "        print(\"Hyptoneuse cannot be smaller than side length\")\n",
    "    else:\n",
    "        third_side = (hyp**2 - side**2)**0.5\n",
    "        print(f\"The length of Third side of a right angle traingle is :{third_side}\")"
   ]
  }
 ],
 "metadata": {
  "kernelspec": {
   "display_name": "Python 3 (ipykernel)",
   "language": "python",
   "name": "python3"
  },
  "language_info": {
   "codemirror_mode": {
    "name": "ipython",
    "version": 3
   },
   "file_extension": ".py",
   "mimetype": "text/x-python",
   "name": "python",
   "nbconvert_exporter": "python",
   "pygments_lexer": "ipython3",
   "version": "3.9.7"
  }
 },
 "nbformat": 4,
 "nbformat_minor": 5
}
