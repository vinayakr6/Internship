{
 "cells": [
  {
   "cell_type": "markdown",
   "id": "a07058af",
   "metadata": {},
   "source": [
    "### Program to find factorial of Number"
   ]
  },
  {
   "cell_type": "code",
   "execution_count": 2,
   "id": "5d8b76ea",
   "metadata": {},
   "outputs": [
    {
     "name": "stdout",
     "output_type": "stream",
     "text": [
      "Enter the number to find its factorial: 6\n",
      "The 6! is 720\n"
     ]
    }
   ],
   "source": [
    "def factorial():\n",
    "    # Enter a number to find its factorial\n",
    "    num = int(input(\"Enter the number to find its factorial: \"))\n",
    "\n",
    "    # initial assignment\n",
    "    fact_num = 1\n",
    "\n",
    "    # Using for loop to obtain the factorial of a given number\n",
    "\n",
    "    for i in range(1, num+1):\n",
    "        fact_num *= i\n",
    "\n",
    "    # Display of Factorial of given number using print function    \n",
    "    print(f\"The {num}! is {fact_num}\")\n",
    "\n",
    "factorial()"
   ]
  },
  {
   "cell_type": "code",
   "execution_count": null,
   "id": "e3a2980b",
   "metadata": {},
   "outputs": [],
   "source": []
  }
 ],
 "metadata": {
  "kernelspec": {
   "display_name": "Python 3 (ipykernel)",
   "language": "python",
   "name": "python3"
  },
  "language_info": {
   "codemirror_mode": {
    "name": "ipython",
    "version": 3
   },
   "file_extension": ".py",
   "mimetype": "text/x-python",
   "name": "python",
   "nbconvert_exporter": "python",
   "pygments_lexer": "ipython3",
   "version": "3.9.7"
  }
 },
 "nbformat": 4,
 "nbformat_minor": 5
}
