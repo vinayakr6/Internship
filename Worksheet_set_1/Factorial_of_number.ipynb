def factorial():
    # Enter a number to find its factorial
    num = int(input("Enter the number to find its factorial: "))

    # initial assignment
    fact_num = 1

    # Using for loop to obtain the factorial of a given number

    for i in range(1, num+1):
        fact_num *= i

    # Display of Factorial of given number using print function    
    print(f"The {num}! is {fact_num}")

factorial()
