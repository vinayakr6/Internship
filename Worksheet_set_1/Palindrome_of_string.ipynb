{
 "cells": [
  {
   "cell_type": "markdown",
   "id": "a5a35bf7",
   "metadata": {},
   "source": [
    "### Program to check whether a given string is palindrome or not."
   ]
  },
  {
   "cell_type": "code",
   "execution_count": 9,
   "id": "d1e39acb",
   "metadata": {},
   "outputs": [
    {
     "name": "stdout",
     "output_type": "stream",
     "text": [
      "Enter a string to find its palindrome or not:\n",
      "Bob\n",
      "Reversed string is : bob\n",
      "\n",
      "Word 'Bob' is a Palindrome\n"
     ]
    }
   ],
   "source": [
    "# Enter a word to check whether it is palindrome or not\n",
    "word = input(\"Enter a string to find its palindrome or not:\\n\")\n",
    "\n",
    "word_lowercase = word.lower()\n",
    "\n",
    "# Slicing of string to reverse it\n",
    "reversed_word = word_lowercase[::-1]\n",
    "print(f\"Reversed string is : {reversed_word}\\n\")\n",
    "\n",
    "#Comparing original and reversed string\n",
    "if word_lowercase == reversed_word:\n",
    "    print(f\"Word '{word}' is a Palindrome\")\n",
    "else:\n",
    "    print (f\"Word '{word}' is not a Palindrome\")"
   ]
  }
 ],
 "metadata": {
  "kernelspec": {
   "display_name": "Python 3 (ipykernel)",
   "language": "python",
   "name": "python3"
  },
  "language_info": {
   "codemirror_mode": {
    "name": "ipython",
    "version": 3
   },
   "file_extension": ".py",
   "mimetype": "text/x-python",
   "name": "python",
   "nbconvert_exporter": "python",
   "pygments_lexer": "ipython3",
   "version": "3.9.7"
  }
 },
 "nbformat": 4,
 "nbformat_minor": 5
}
